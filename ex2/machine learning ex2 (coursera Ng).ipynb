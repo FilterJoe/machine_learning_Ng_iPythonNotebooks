{
 "metadata": {
  "name": "",
  "signature": "sha256:96a35fea05456906ff0ba4ecc2f0f61d495cdac25af821968715ec85734c2282"
 },
 "nbformat": 3,
 "nbformat_minor": 0,
 "worksheets": [
  {
   "cells": [
    {
     "cell_type": "heading",
     "level": 1,
     "metadata": {},
     "source": [
      "Machine Learning ex2 (coursera Ng): logistic regression"
     ]
    },
    {
     "cell_type": "heading",
     "level": 2,
     "metadata": {},
     "source": [
      "Goal"
     ]
    },
    {
     "cell_type": "markdown",
     "metadata": {},
     "source": [
      "The goal of this exercise is implement logistic regression, including Sigmoid function, Cost Function (without Regularization), and making predictions."
     ]
    },
    {
     "cell_type": "heading",
     "level": 2,
     "metadata": {},
     "source": [
      "Use Case"
     ]
    },
    {
     "cell_type": "markdown",
     "metadata": {},
     "source": [
      "Logistic Regression is a superverised learning classifier $h_\\theta(x)$ to estimate the probabilility of whether a binary output is 1 or 0 based on inputs x. This example is a typical classification problem for which logistic regression is well suited: Estimate the probability of a student gaining admittance to a university based on exam scores, based on a logistic classification model established from past data."
     ]
    },
    {
     "cell_type": "heading",
     "level": 2,
     "metadata": {},
     "source": [
      "Part 1: Plotting"
     ]
    },
    {
     "cell_type": "code",
     "collapsed": false,
     "input": [
      "import numpy as np\n",
      "import matplotlib.pyplot as plt\n",
      "from scipy import optimize\n",
      "from IPython.display import display, clear_output"
     ],
     "language": "python",
     "metadata": {},
     "outputs": [],
     "prompt_number": 1
    },
    {
     "cell_type": "code",
     "collapsed": false,
     "input": [
      "# Load data\n",
      "# First 2 columns are exam scores. Third column is label.\n",
      "data = [[i for i in line[:-1].split(',')] for line in file('ex2data1.txt')]\n",
      "X = np.array([data[i][0:2] for i in range(len(data))], dtype=float)\n",
      "y = np.array([[data[i][2] for i in range(len(data))]], dtype=int).T  # extra brackets make this 2D, and therefore transposable\n",
      "\n",
      "#Print out some data points\n",
      "print '\\nFirst 10 examples from the data set: \\n'\n",
      "for i in range(10):\n",
      "    print ' x = %.15f %.15f, y = %d' % (X[i][0], X[i][1], y[i])"
     ],
     "language": "python",
     "metadata": {},
     "outputs": [
      {
       "output_type": "stream",
       "stream": "stdout",
       "text": [
        "\n",
        "First 10 examples from the data set: \n",
        "\n",
        " x = 34.623659624516968 78.024692815362400, y = 0\n",
        " x = 30.286710768226069 43.894997524001013, y = 0\n",
        " x = 35.847408769938717 72.902198027083642, y = 0\n",
        " x = 60.182599386209759 86.308552095468258, y = 1\n",
        " x = 79.032736050710099 75.344376436910295, y = 1\n",
        " x = 45.083277476683392 56.316371781530499, y = 0\n",
        " x = 61.106664536847660 96.511425884896241, y = 1\n",
        " x = 75.024745567388891 46.554013541165382, y = 1\n",
        " x = 76.098786702262572 87.420569719268030, y = 1\n",
        " x = 84.432819961200352 43.533393310721088, y = 1\n"
       ]
      }
     ],
     "prompt_number": 2
    },
    {
     "cell_type": "code",
     "collapsed": false,
     "input": [
      "def plot_data(X, y):\n",
      "    # Clear and close all figures\n",
      "    clear_output()  #iPython Notebook command\n",
      "    plt.clf()\n",
      "\n",
      "    # Find Indices of Positive and Negative Examples\n",
      "    pos = np.nonzero(y == 1)\n",
      "    neg = np.nonzero(y == 0)\n",
      "    \n",
      "    # note that X[pos, 0] returns a 2D array with the second row being nonsense. In order for numpoints in legend to work,\n",
      "    # must use just the first row of this 2D array . . . thus X[pos, 0][0]\n",
      "    plt.plot(X[pos, 0][0], X[pos, 1][0], '+', markersize=6, markeredgewidth='2', markeredgecolor='black')\n",
      "    plt.plot(X[neg, 0][0], X[neg, 1][0], 'o', markersize=6, markerfacecolor='yellow')"
     ],
     "language": "python",
     "metadata": {},
     "outputs": [],
     "prompt_number": 3
    },
    {
     "cell_type": "code",
     "collapsed": false,
     "input": [
      "#PLot data\n",
      "\n",
      "plt.figure(figsize=(10, 7))\n",
      "plot_data(X, y)\n",
      "plt.xlabel('Exam 1 score')\n",
      "plt.ylabel('Exam 2 score')\n",
      "plt.legend(('Admitted (y=1)', 'Not admitted (y=0)'), loc='lower left', numpoints=1)\n",
      "display()"
     ],
     "language": "python",
     "metadata": {},
     "outputs": [
      {
       "metadata": {},
       "output_type": "display_data",
       "png": "[encoded data removed]",
       "text": [
        "<matplotlib.figure.Figure at 0x7f71bf0cf7d0>"
       ]
      }
     ],
     "prompt_number": 4
    },
    {
     "cell_type": "heading",
     "level": 2,
     "metadata": {},
     "source": [
      "Part 2: Compute Cost and Gradient"
     ]
    },
    {
     "cell_type": "markdown",
     "metadata": {},
     "source": [
      "Logistic regression is used for binary classification problems, so analog output is converted to binary as follows:<br>\n",
      "If $h_\\theta(x)\\geq .5$, then 1<br>\n",
      "If $h_\\theta(x)\\lt .5$, then 0<br>\n",
      "While several functions can be used for g in the logistic regression hypothesis $h_\\theta(x) = g(\\theta^Tx)$, in this exercise we use the popular Sigmoid function:<br>\n",
      "$$g(z) = \\frac{1}{1+e^{-z}}$$\n",
      "The logistic regression cost function is:\n",
      "\n",
      "$$J(\\theta) = \\frac{1}{m}\\sum\\limits_{i=1}^{m} [-y^{(i)}log(h_\\theta(x^{(i)})-(1 - y^{(i)})log(1 - h_\\theta(x^{(i)}))]$$\n",
      "\n",
      "while the gradient of the cost looks identical to linear regression (though $h_\\theta(x)$ is different):\n",
      "\n",
      "$$\\frac{\\partial{J(\\theta)}}{\\partial{\\theta_j}} = \\frac{1}{m}\\sum\\limits_{i=1}^{m} (h_\\theta(x^{(i)}) - y^{(i)})x_j^{(i)}$$"
     ]
    },
    {
     "cell_type": "code",
     "collapsed": false,
     "input": [
      "def sigmoid(z):\n",
      "    \"\"\"\n",
      "    Return sigmoid of z\n",
      "    Args:\n",
      "        Z (scalar or array)\n",
      "    \"\"\"\n",
      "    return 1.0 / (1.0 + np.exp(-z))\n",
      "\n",
      "def h_of_theta(theta, X):\n",
      "    transposed_theta = theta[:, np.newaxis]\n",
      "    return sigmoid(X.dot(transposed_theta))\n",
      "\n",
      "def cost_function(theta, X, y):\n",
      "    \"\"\"\n",
      "    Return cost of using theta for logistic regression\n",
      "    Args:\n",
      "        theta (1D numpy array): scipy optimization requires theta parameter to be first, and passed as 1D array\n",
      "        X (m x n numpy array): first column is 1 (intercept), any number of columns to follow\n",
      "        y (m x 1 numpy array): each number represents the answer to the corresponding row in X\n",
      "    \"\"\"\n",
      "    m = len(y) * 1.0\n",
      "    h_theta = h_of_theta(theta, X)\n",
      "\n",
      "    # must change values of 0 or 1 slightly to avoid log(0)\n",
      "    tol = .000000000000001\n",
      "    h_theta[h_theta < tol] = tol  # close-to-zero values get set to tol\n",
      "    h_theta[(h_theta < 1 + tol) & (h_theta > 1 - tol)] = 1 - tol  # close-to-1 values get set to 1 - tol\n",
      "\n",
      "    J = -sum(y * np.log(h_theta) + (-y + 1) * np.log(-h_theta + 1))/m\n",
      "    return J[0]\n",
      "\n",
      "def gradient(theta, X, y):\n",
      "    \"\"\"\n",
      "    Return gradient of theta for logistic regression\n",
      "    Args:\n",
      "        theta (1D numpy array): scipy optimization requires theta parameter to be first, and passed as 1D array\n",
      "        X (m x n numpy array): first column is intercept, any number of columns to follow\n",
      "        y (m x 1 numpy array): each number represents the answer to the corresponding row in X\n",
      "    \"\"\"\n",
      "    m = len(y)\n",
      "    h_theta = h_of_theta(theta, X)\n",
      "    grad = (h_theta - y).T.dot(X)/m\n",
      "    return np.ndarray.flatten(grad)  # scipy optimization requires gradient to be a 1D array"
     ],
     "language": "python",
     "metadata": {},
     "outputs": [],
     "prompt_number": 5
    },
    {
     "cell_type": "code",
     "collapsed": false,
     "input": [
      "m, n = X.shape\n",
      "X = np.insert(X, 0, 1, axis=1)  # Add intercept term (a column of ones) to x along vertical axis\n",
      "initial_theta = np.zeros(n+1)\n",
      "cost = cost_function(initial_theta, X, y)\n",
      "grad = gradient(initial_theta, X, y)\n",
      "\n",
      "print 'Cost at initial theta (zeros):', cost\n",
      "print '\\nGradient at initial theta (zeros):\\n'\n",
      "print grad"
     ],
     "language": "python",
     "metadata": {},
     "outputs": [
      {
       "output_type": "stream",
       "stream": "stdout",
       "text": [
        "Cost at initial theta (zeros): 0.69314718056\n",
        "\n",
        "Gradient at initial theta (zeros):\n",
        "\n",
        "[ -0.1        -12.00921659 -11.26284221]\n"
       ]
      }
     ],
     "prompt_number": 6
    },
    {
     "cell_type": "heading",
     "level": 2,
     "metadata": {},
     "source": [
      "Part 3: Optimizing using fmin_bfgs, which is python/scipy equivalent of fminunc"
     ]
    },
    {
     "cell_type": "code",
     "collapsed": false,
     "input": [
      "# set options then run fmin_bfgs to obtain optimal theta (BFGS: quasi-Newton method of Broyden, Fletcher, Goldfarb, and Shanno)\n",
      "\n",
      "options = {'full_output': True, 'maxiter': 400}\n",
      "myargs = (X, y)\n",
      "\n",
      "optimal_theta, cost, grad_at_min, inv_hessian_matrix, fun_calls, grad_calls, warn_flags = optimize.fmin_bfgs(\n",
      "    cost_function,\n",
      "    initial_theta,\n",
      "    args=myargs,\n",
      "    fprime=gradient,\n",
      "    **options)\n",
      "\n",
      "print '\\nCost at theta found by fmin_bfgs, which is python/scipy equivalent of fminunc:', cost\n",
      "print '\\noptimal theta:'\n",
      "print optimal_theta"
     ],
     "language": "python",
     "metadata": {},
     "outputs": [
      {
       "output_type": "stream",
       "stream": "stdout",
       "text": [
        "Optimization terminated successfully.\n",
        "         Current function value: 0.203498\n",
        "         Iterations: 26\n",
        "         Function evaluations: 34\n",
        "         Gradient evaluations: 34\n",
        "\n",
        "Cost at theta found by fmin_bfgs, which is python/scipy equivalent of fminunc: 0.203497701589\n",
        "\n",
        "optimal theta:\n",
        "[-25.16133565   0.20623174   0.20147161]\n"
       ]
      }
     ],
     "prompt_number": 7
    },
    {
     "cell_type": "code",
     "collapsed": false,
     "input": [
      "def plot_decision_boundary(theta, X, y):\n",
      "    \"\"\"\n",
      "    Plots data points X and y with decision boundary defined by theta. + for positive examples, o for negatives.\n",
      "    X is assumed to be either:\n",
      "    1) Mx3 matrix, where the first column is an all-ones column for the intercept.\n",
      "    2) MxN, N>3 matrix, where the first column is all-ones\n",
      "    \"\"\"\n",
      "    # Clear and close all figures\n",
      "    clear_output()  #iPython Notebook command\n",
      "    plt.clf()\n",
      "    \n",
      "    plot_data(X[:, 1:3], y)\n",
      "    if X.shape[1] <= 3:\n",
      "        plot_x = np.r_[X[:,2].min()-8,  X[:,2].max()+8]   # r_ concatenates scalars into 1-D array\n",
      "        plot_y = (-1/theta[2]) * (theta[1]*plot_x + theta[0])\n",
      "\n",
      "        plt.plot(plot_x, plot_y, '-b', linewidth=1)\n",
      "    else:\n",
      "    # this part of the code I adapted from Nonnormalizable:\n",
      "    # https://github.com/Nonnormalizable/NgMachineLearningPython/blob/6f114bf4b9e1c9229b8196b0f6ee1858da576d0a/ex2/helperFunctions.py\n",
      "        z = np.zeros([50, 50])\n",
      "        uu = np.linspace(-1.0, 1.5, 50)\n",
      "        vv = np.linspace(-1.0, 1.5, 50)\n",
      "        for i, u in enumerate(uu):\n",
      "            for j, v in enumerate(vv):\n",
      "                z[i, j] = np.dot(map_feature(np.array([[u]]), np.array([[v]])),\n",
      "                                        theta)[0]\n",
      "        plt.contour(uu, vv, z.T, [0], colors='g')"
     ],
     "language": "python",
     "metadata": {},
     "outputs": [],
     "prompt_number": 8
    },
    {
     "cell_type": "code",
     "collapsed": false,
     "input": [
      "# Plot decision boundary\n",
      "\n",
      "plot_decision_boundary(optimal_theta, X, y)\n",
      "\n",
      "plt.axis([19, 101, 19, 101])\n",
      "plt.xlabel('Exam 1 score')\n",
      "plt.ylabel('Exam 2 score')\n",
      "plt.legend(('Admitted (y=1)', 'Not admitted (y=0)', 'Decision boundary'), loc='lower left', numpoints=1)"
     ],
     "language": "python",
     "metadata": {},
     "outputs": [
      {
       "metadata": {},
       "output_type": "pyout",
       "prompt_number": 9,
       "text": [
        "<matplotlib.legend.Legend at 0x7f71b7217650>"
       ]
      },
      {
       "metadata": {},
       "output_type": "display_data",
       "png": "[encoded data removed]",
       "text": [
        "<matplotlib.figure.Figure at 0x7f71bf0cf7d0>"
       ]
      }
     ],
     "prompt_number": 9
    },
    {
     "cell_type": "heading",
     "level": 2,
     "metadata": {},
     "source": [
      "Part 4: Predict and Accuracies"
     ]
    },
    {
     "cell_type": "code",
     "collapsed": false,
     "input": [
      "def predict(theta, X):\n",
      "    h_theta = h_of_theta(theta, X)\n",
      "    return np.round(h_theta)"
     ],
     "language": "python",
     "metadata": {},
     "outputs": [],
     "prompt_number": 10
    },
    {
     "cell_type": "code",
     "collapsed": false,
     "input": [
      "prob = h_of_theta(optimal_theta, np.array([1, 45, 85]))\n",
      "print '\\nFor a student with scores 45 and 85, we predict an admission probability of', prob[0]\n",
      "\n",
      "# Computer accuracy on our training set\n",
      "\n",
      "p = predict(optimal_theta, X)\n",
      "\n",
      "print '\\nTraining Accuracy: ', np.mean((p == y) * 100)"
     ],
     "language": "python",
     "metadata": {},
     "outputs": [
      {
       "output_type": "stream",
       "stream": "stdout",
       "text": [
        "\n",
        "For a student with scores 45 and 85, we predict an admission probability of 0.776290592515\n",
        "\n",
        "Training Accuracy:  89.0\n"
       ]
      }
     ],
     "prompt_number": 11
    }
   ],
   "metadata": {}
  }
 ]
}